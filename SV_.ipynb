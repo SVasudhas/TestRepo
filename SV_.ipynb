{
 "cells": [
  {
   "cell_type": "markdown",
   "metadata": {},
   "source": [
    "<center>\n",
    "    <img src=\"https://cf-courses-data.s3.us.cloud-object-storage.appdomain.cloud/IBMDeveloperSkillsNetwork-DS0105EN-SkillsNetwork/labs/Module2/images/SN_web_lightmode.png\" width=\"300\" alt=\"cognitiveclass.ai logo\"  />\n",
    "</center>\n"
   ]
  },
  {
   "cell_type": "markdown",
   "metadata": {},
   "source": [
    "# My Jupyter Notebook on IBM Watson Studio"
   ]
  },
  {
   "cell_type": "markdown",
   "metadata": {},
   "source": [
    "**SV**<br>\n",
    "Engg and QA"
   ]
  },
  {
   "cell_type": "markdown",
   "metadata": {},
   "source": [
    "_Will give a wide array of new skills that will allow  to leverage data to aid companies with their business strategies, and explore exciting new fields developing from within data science—fields like artificial intelligence, machine learning, big data and so on.._"
   ]
  },
  {
   "cell_type": "markdown",
   "metadata": {},
   "source": [
    "### program to find simple interest\n",
    "### for given principal amount, time and\n",
    "### rate of interest.\n"
   ]
  },
  {
   "cell_type": "code",
   "execution_count": 1,
   "metadata": {},
   "outputs": [
    {
     "name": "stdin",
     "output_type": "stream",
     "text": [
      "Enter the amount:  1000\n",
      "Enter the number of years:  2\n",
      "Enter the rate of interest:  2.5\n"
     ]
    },
    {
     "name": "stdout",
     "output_type": "stream",
     "text": [
      "Simple interest is:  50.0\n"
     ]
    }
   ],
   "source": [
    "def simpleInterset(p,t,r):\n",
    "     ##Calculate the simple interest\n",
    "    SI=(p*t*r)/100\n",
    "    return SI\n",
    "\n",
    "p=int(input(\"Enter the amount: \"))\n",
    "##Enter the number of years\n",
    "t=int(input(\"Enter the number of years: \"))\n",
    "##Enter the rate of interest\n",
    "r=float(input(\"Enter the rate of interest: \"))\n",
    "print(\"Simple interest is: \",simpleInterset(p, t, r))"
   ]
  },
  {
   "cell_type": "markdown",
   "metadata": {},
   "source": [
    "\n",
    "- one<br>\n",
    "- two<br>\n",
    "- three<br>\n",
    "- four<br>\n",
    "- five<br>\n",
    "- six<br>\n",
    "- seven<br>\n",
    "- eight<br>\n",
    "- nine<br>\n",
    "- ten<br>\n",
    "\n",
    "### Results\n",
    "____________________________________________________________________________________________________________________\n",
    "| Stretch/Untouched | ProbDistribution | Accuracy |\n",
    "| --- | --- | --- |\n",
    "| Stretched | Gaussian | 0.8 |"
   ]
  },
  {
   "cell_type": "markdown",
   "metadata": {},
   "source": [
    "<table ><tr><th> Firstname <th><th> Lastname <th><th> Age <tr><tr>\n",
    "<tr><td> Jill <td><td> Smith <td><td> 50 <td><tr><tr><td> Eve <td><td> Jackson <td><td> 35 <td><tr><table>"
   ]
  },
  {
   "cell_type": "markdown",
   "metadata": {},
   "source": [
    " <table>  \n",
    "    <tr>\n",
    "    <th>Firstname<th>\n",
    "    <th>Lastname<th>\n",
    "    <th>Age<th>\n",
    "  <tr>\n",
    "  <tr>\n",
    "    <td>Bill<td>\n",
    "    <td>Porter<td>\n",
    "    <td>55<td>\n",
    "  <tr>\n",
    "  <tr>\n",
    "    <td>Maria<td>\n",
    "    <td>Jackson<td>\n",
    "    <td>34<td>\n",
    "  <tr>\n",
    "<table> "
   ]
  },
  {
   "cell_type": "code",
   "execution_count": null,
   "metadata": {},
   "outputs": [],
   "source": []
  },
  {
   "cell_type": "code",
   "execution_count": null,
   "metadata": {},
   "outputs": [],
   "source": []
  }
 ],
 "metadata": {
  "kernelspec": {
   "display_name": "Python",
   "language": "python",
   "name": "conda-env-python-py"
  },
  "language_info": {
   "codemirror_mode": {
    "name": "ipython",
    "version": 3
   },
   "file_extension": ".py",
   "mimetype": "text/x-python",
   "name": "python",
   "nbconvert_exporter": "python",
   "pygments_lexer": "ipython3",
   "version": "3.7.12"
  }
 },
 "nbformat": 4,
 "nbformat_minor": 4
}
